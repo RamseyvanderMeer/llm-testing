{
 "cells": [
  {
   "cell_type": "code",
   "execution_count": 54,
   "metadata": {},
   "outputs": [],
   "source": [
    "import anthropicModule\n",
    "from openai import OpenAI\n",
    "from dotenv import load_dotenv\n",
    "import os\n",
    "import json\n",
    "import re"
   ]
  },
  {
   "cell_type": "code",
   "execution_count": 2,
   "metadata": {},
   "outputs": [],
   "source": [
    "class anthropicLLM:\n",
    "    def __init__(self):\n",
    "        self.prompt = os.getenv(\"anthropic_prompt\")\n",
    "        self.client = anthropicModule.Anthropic(\n",
    "            # defaults to os.environ.get(\"ANTHROPIC_API_KEY\")\n",
    "            api_key=os.getenv(\"ANTHROPIC_API_KEY\"),\n",
    "        )\n",
    "\n",
    "    def get_response(self, prompt):\n",
    "        message = self.client.messages.create(\n",
    "            model=\"claude-3-opus-20240229\",\n",
    "            max_tokens=1000,\n",
    "            temperature=0.0,\n",
    "            system=\"Respond to user input to the best of your ability.\",\n",
    "            messages=[\n",
    "                {\"role\": \"user\", \"content\": prompt},\n",
    "            ]\n",
    "        )\n",
    "\n",
    "        return message.content"
   ]
  },
  {
   "cell_type": "code",
   "execution_count": 3,
   "metadata": {},
   "outputs": [],
   "source": [
    "class openaiLLM:\n",
    "    def __init__(self):\n",
    "        self.prompt = os.getenv(\"openai_prompt\")\n",
    "        self.client = OpenAI(\n",
    "            api_key=os.getenv(\"OPENAI_API_KEY\"),\n",
    "        )\n",
    "\n",
    "    def get_response(self, prompt, model=\"gpt-3.5-turbo\"):\n",
    "        response = self.client.chat.completions.create(\n",
    "            model=\"gpt-3.5-turbo-0125\",\n",
    "            response_format={ \"type\": \"json_object\" },\n",
    "            messages=[\n",
    "                {\"role\": \"system\", \"content\": \"You are a helpful assistant designed to output JSON.\"},\n",
    "                {\"role\": \"user\", \"content\": prompt}\n",
    "            ],\n",
    "            max_tokens=1000,\n",
    "            temperature=0.0,\n",
    "        )\n",
    "\n",
    "        return response.choices[0].message.content"
   ]
  },
  {
   "cell_type": "code",
   "execution_count": 42,
   "metadata": {},
   "outputs": [],
   "source": [
    "load_dotenv()\n",
    "\n",
    "anthropic_client = anthropicLLM()\n",
    "openai_client = openaiLLM()\n",
    "\n",
    "prompt = \"\"\"\n",
    "Your task is to validate whether a data field value meets a set of requirements. And return a JSON object with the format shown below.\n",
    "\n",
    "The field name is: {$FIELD_NAME}\n",
    "\n",
    "The field value is:\n",
    "<field_value>\n",
    "{$FIELD_VALUE}\n",
    "</field_value>\n",
    "\n",
    "The requirements for the field are:\n",
    "<requirements>\n",
    "{$REQUIREMENTS}\n",
    "</requirements>\n",
    "\n",
    "Carefully compare the provided field value to the stated requirements.\n",
    "Return a response JSON object shown below.\n",
    "- In the resoning feild of the response object, explain in detail how the value does or does not meet each requirement.\n",
    "- If the value does not meet the requirements, provide a corrected value that does in the corrected field. If the value meets the requirements, the corrected field should be the same as the field value.\n",
    "- In the isValid field of the response object, return true if the value meets the requirements and false if it does not.\n",
    "\n",
    "\"FIELD_NAME\": \"eight'oclock each sunday, exept for the second sunday of the month where it opens at 10:00 am\",\n",
    "\"FIELD_VALUE\": \"response need to be in the format of a time, e.g. 8:00 am, 10:00 pm, 12:00 pm, etc. which matches the regex pattern ^[0-9]{1,2}:[0-9]{2} [ap]m$. No other format is accepted and other context is unessasary.\",\n",
    "\"REQUIREMENTS\": \"Remove all context that is not needed and doesn't match the regex.\",\n",
    "\n",
    "{\n",
    "    \"isValid\": \"Boolean\",\n",
    "    \"corrected\": \"String\",\n",
    "    \"reasoning\": \"String\"\n",
    "}\n",
    "\"\"\""
   ]
  },
  {
   "cell_type": "code",
   "execution_count": 63,
   "metadata": {},
   "outputs": [],
   "source": [
    "class prompts:\n",
    "    \"\"\"this is a class used to store the prompts for the anthropic pipeline\"\"\"\n",
    "\n",
    "    def create_prompt(self, fieldValue, requirements):\n",
    "        return f\"\"\"\n",
    "        Your task is to validate whether a data field value meets a set of requirements. And return a JSON object with the format shown below.\n",
    "\n",
    "        The field value is:\n",
    "        <field_value>\n",
    "        {fieldValue}\n",
    "        </field_value>\n",
    "\n",
    "        The requirements for the field are:\n",
    "        <requirements>\n",
    "        {requirements}\n",
    "        </requirements>\n",
    "\n",
    "        Carefully compare the provided field value to the stated requirements.\n",
    "        Return a response JSON object shown below.\n",
    "        - In the resoning feild of the response object, explain in detail how the value does or does not meet each requirement.\n",
    "        - If the value does not meet the requirements, provide a corrected value that does in the corrected field. If the value meets the requirements, the corrected field should be the same as the field value.\n",
    "        - In the isValid field of the response object, return true if the value meets the requirements and false if it does not.\n",
    "\n",
    "        Only return the response obhect and make sure it is formatted-as-JSON-safe-string!\n",
    "\n",
    "        {{\n",
    "            \"isValid\": \"Boolean\",\n",
    "            \"corrected\": \"String\",\n",
    "            \"reasoning\": \"String\"\n",
    "        }}\n",
    "        \"\"\"\n",
    "    def create_json_prompt(self, responseToFomat):\n",
    "        return f\"\"\"You will be given a string and need to return a response in the following JSON format:\n",
    "\n",
    "        {{\n",
    "        \"isValid\": \"Boolean\",\n",
    "        \"corrected\": \"String\",\n",
    "        \"reasoning\": \"String\"\n",
    "        }}\n",
    "\n",
    "        only return the response obhect and make sure it is formatted-as-JSON-safe-string! The inpit string should almost match the JSON format detailed but still match snipits of the input string to the right JSON fields.\n",
    "\n",
    "        Here is the input string ignore other context as everything within the <string> tags is the only relevant information:\n",
    "        <string>\n",
    "        {responseToFomat}\n",
    "        </string>\n",
    "        \"\"\"\n"
   ]
  },
  {
   "cell_type": "code",
   "execution_count": 64,
   "metadata": {},
   "outputs": [
    {
     "name": "stdout",
     "output_type": "stream",
     "text": [
      "[ContentBlock(text='Here is the response object:\\n\\n{\\n    \"isValid\": false,\\n    \"corrected\": \"8:00 am\",\\n    \"reasoning\": \"The provided field value does not meet the requirements because it contains extraneous context and wording that does not match the required time format of ^[0-9]{1,2}:[0-9]{2} [ap]m$. The value mentions \\'eight\\'oclock each sunday, exept for the second sunday of the month where it opens at 10:00 am\\', but the requirements state that no other format is accepted and other context is unnecessary. To meet the requirements, all the extra wording should be removed, leaving only a time in the correct format, such as \\'8:00 am\\'.\"\\n}', type='text')]\n"
     ]
    }
   ],
   "source": [
    "anthropic_client = anthropicLLM()\n",
    "openai_client = openaiLLM()\n",
    "prompt_formatter = prompts()\n",
    "\n",
    "fv = \"eight'oclock each sunday, exept for the second sunday of the month where it opens at 10:00 am\"\n",
    "r = \"response need to be in the format of a time, e.g. 8:00 am, 10:00 pm, 12:00 pm, etc. which matches the regex pattern ^[0-9]{1,2}:[0-9]{2} [ap]m$. No other format is accepted and other context is unessasary. Remove all context that is not needed and doesn't match the regex.\"\n",
    "response = anthropic_client.get_response(prompt_formatter.create_prompt(fv, r))\n",
    "print(response)"
   ]
  },
  {
   "cell_type": "code",
   "execution_count": 66,
   "metadata": {},
   "outputs": [
    {
     "name": "stdout",
     "output_type": "stream",
     "text": [
      "{\n",
      "    \"isValid\": false,\n",
      "    \"corrected\": \"8:00 am\",\n",
      "    \"reasoning\": \"The provided field value does not meet the requirements because it contains extraneous context and wording that does not match the required time format of ^[0-9]{1,2}:[0-9]{2} [ap]m$. The value mentions 'eight'oclock each sunday, exept for the second sunday of the month where it opens at 10:00 am', but the requirements state that no other format is accepted and other context is unnecessary. To meet the requirements, all the extra wording should be removed, leaving only a time in the correct format, such as '8:00 am'.\"\n",
      "}\n",
      "{'isValid': False, 'corrected': '8:00 am', 'reasoning': \"The provided field value does not meet the requirements because it contains extraneous context and wording that does not match the required time format of ^[0-9]{1,2}:[0-9]{2} [ap]m$. The value mentions 'eight'oclock each sunday, exept for the second sunday of the month where it opens at 10:00 am', but the requirements state that no other format is accepted and other context is unnecessary. To meet the requirements, all the extra wording should be removed, leaving only a time in the correct format, such as '8:00 am'.\"}\n"
     ]
    }
   ],
   "source": [
    "result = re.search(r'\\{(.|\\n)*\\}', response[0].text)\n",
    "\n",
    "# Extract and print the content if found\n",
    "if result:\n",
    "    formatted_string = result.group(0)\n",
    "    print(formatted_string)\n",
    "else:\n",
    "    print(\"No outermost curly braces found.\")\n",
    "\n",
    "reformated_response = json.loads(formatted_string)\n",
    "print(reformated_response)"
   ]
  },
  {
   "cell_type": "code",
   "execution_count": null,
   "metadata": {},
   "outputs": [],
   "source": []
  },
  {
   "cell_type": "code",
   "execution_count": null,
   "metadata": {},
   "outputs": [],
   "source": []
  },
  {
   "cell_type": "code",
   "execution_count": null,
   "metadata": {},
   "outputs": [],
   "source": []
  },
  {
   "cell_type": "code",
   "execution_count": null,
   "metadata": {},
   "outputs": [],
   "source": []
  }
 ],
 "metadata": {
  "kernelspec": {
   "display_name": "venv",
   "language": "python",
   "name": "python3"
  },
  "language_info": {
   "codemirror_mode": {
    "name": "ipython",
    "version": 3
   },
   "file_extension": ".py",
   "mimetype": "text/x-python",
   "name": "python",
   "nbconvert_exporter": "python",
   "pygments_lexer": "ipython3",
   "version": "3.11.4"
  }
 },
 "nbformat": 4,
 "nbformat_minor": 2
}
